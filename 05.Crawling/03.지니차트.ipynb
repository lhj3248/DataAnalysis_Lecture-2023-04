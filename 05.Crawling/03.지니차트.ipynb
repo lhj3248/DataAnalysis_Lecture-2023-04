{
 "cells": [
  {
   "cell_type": "code",
   "execution_count": 1,
   "metadata": {},
   "outputs": [],
   "source": [
    "import requests\n",
    "from urllib.parse import quote\n",
    "import pandas as pd\n",
    "from bs4 import BeautifulSoup"
   ]
  },
  {
   "cell_type": "code",
   "execution_count": 30,
   "metadata": {},
   "outputs": [
    {
     "data": {
      "text/plain": [
       "'<br>\\r\\n<br>\\r\\n<center>\\r\\n<img src=\"http://www.geniemusic.co.kr/images/common/logo_r1.png\"><br>\\r\\n<h2> <meta http-equiv=\"Content-Type\" content=\"text/html;charset=UTF-8\"> ì\\xa0\\x91ì\\x86\\x8dì\\x9a\\x94ì²\\xadì\\x9d´ ë³´ì\\x95\\x88ì\\xa0\\x95ì±\\x85ì\\x97\\x90 ì\\x9d\\x98í\\x95´ ì°¨ë\\x8b¨ë\\x90\\x98ì\\x97\\x88ì\\x8aµë\\x8b\\x88ë\\x8b¤. ë\\x8b¹ì\\x82¬ ê³\\xa0ê°\\x9dì\\x84¼í\\x84°ë¡\\x9c ë¬¸ì\\x9d\\x98í\\x95´ì£¼ì\\x8b\\xadì\\x8b\\x9cì\\x98¤.<br><br>\\r\\nThe security policy of the connection request is blocked. Contact your customer service representative.<br><br>\\r\\nì§\\x80ë\\x8b\\x88ë®¤ì§\\x81 ê³\\xa0ê°\\x9dì\\x84¼í\\x84° 1577-5337<br><br>\\r\\n</h2>\\r\\n</center>\\r\\n<br>'"
      ]
     },
     "execution_count": 30,
     "metadata": {},
     "output_type": "execute_result"
    }
   ],
   "source": [
    "url = 'https://www.genie.co.kr/chart/top200'\n",
    "result = requests.get(url)\n",
    "result.text"
   ]
  },
  {
   "cell_type": "code",
   "execution_count": null,
   "metadata": {},
   "outputs": [],
   "source": [
    "header = {'User-Agent' : 'Mozilla/5.0 (Windows NT 10.0; Win64; x64) AppleWebKit/537.36 (KHTML, like Gecko) Chrome'}\n",
    "result = requests.get(url, header=header)\n",
    "soup = BeautifulSoup(result.text, 'html.parser')"
   ]
  },
  {
   "attachments": {},
   "cell_type": "markdown",
   "metadata": {},
   "source": [
    "#### 2. 원하는 데이터 찾기"
   ]
  },
  {
   "cell_type": "code",
   "execution_count": 14,
   "metadata": {},
   "outputs": [
    {
     "data": {
      "text/plain": [
       "0"
      ]
     },
     "execution_count": 14,
     "metadata": {},
     "output_type": "execute_result"
    }
   ],
   "source": [
    "trs = soup.select('tr.list')\n",
    "len(trs)\n"
   ]
  },
  {
   "cell_type": "code",
   "execution_count": 15,
   "metadata": {},
   "outputs": [
    {
     "data": {
      "text/plain": [
       "0"
      ]
     },
     "execution_count": 15,
     "metadata": {},
     "output_type": "execute_result"
    }
   ],
   "source": [
    "# 개발자 도구에서 찾아주는 Selector\n",
    "# #body-content > div.newest-list > div > table > tbody > tr\n",
    "trs = soup.select('#body-content > div.newest-list > div > table > tbody > tr')\n",
    "len(trs)"
   ]
  },
  {
   "cell_type": "markdown",
   "metadata": {},
   "source": [
    "##### 3. 하나를 선택해서 원하는 정보 추출"
   ]
  },
  {
   "cell_type": "code",
   "execution_count": null,
   "metadata": {},
   "outputs": [],
   "source": [
    "tr = trs[0]"
   ]
  },
  {
   "cell_type": "code",
   "execution_count": null,
   "metadata": {},
   "outputs": [],
   "source": [
    "# rank\n",
    "tr.select_one('.number').get_text()"
   ]
  },
  {
   "cell_type": "code",
   "execution_count": null,
   "metadata": {},
   "outputs": [],
   "source": [
    "rank = tr.select_one('.number').get_text().split('\\n')[0].strip()"
   ]
  },
  {
   "cell_type": "code",
   "execution_count": null,
   "metadata": {},
   "outputs": [],
   "source": [
    "# img url\n",
    "img = 'https:' + tr.select_one('.cover > img')['src']\n",
    "img"
   ]
  },
  {
   "cell_type": "code",
   "execution_count": null,
   "metadata": {},
   "outputs": [],
   "source": [
    "# title\n",
    "tr.select_one('.title.ellipsis').get_text().strip()"
   ]
  },
  {
   "cell_type": "code",
   "execution_count": null,
   "metadata": {},
   "outputs": [],
   "source": [
    "# 19금 노래 제목\n",
    "tr.select_one('.title.ellipsis').get_text().split('\\n')[-1].strip()"
   ]
  },
  {
   "cell_type": "code",
   "execution_count": null,
   "metadata": {},
   "outputs": [],
   "source": [
    "#위의 두 코드를 합치면\n",
    "# 방법 1)\n",
    "title = tr.select_one('.title.ellipsis').get_text().split('\\n')[-1].strip()\n",
    "# 방법 2)\n",
    "try:\n",
    "    title = tr.select_one('.title.ellipsis').get_text().split()\n",
    "except:\n",
    "    title = tr.select_one('.title.ellipsis').get_text().split('\\n')[-1].strip()"
   ]
  },
  {
   "cell_type": "code",
   "execution_count": null,
   "metadata": {},
   "outputs": [],
   "source": [
    "# artist\n",
    "artist = tr.select_one('.artitst.ellipsis').string.strip()\n",
    "artist"
   ]
  },
  {
   "cell_type": "code",
   "execution_count": null,
   "metadata": {},
   "outputs": [],
   "source": [
    "# album\n",
    "album = tr.select_one('.albumtitle.ellipsis').string.strip()\n",
    "album"
   ]
  },
  {
   "cell_type": "markdown",
   "metadata": {},
   "source": [
    "##### 4. 한 페이지에 있는 정보"
   ]
  },
  {
   "cell_type": "code",
   "execution_count": null,
   "metadata": {},
   "outputs": [],
   "source": [
    "#방법 1. 딕셔너리의 리스트로 가져오기\n",
    "line = []\n",
    "for tr in trs:\n",
    "    rank = tr.select_one('number').string.strip()\n",
    "    img = 'https:' + tr.select_one('.cover > img')['src']\n",
    "    title = tr.select_one('.artitst.ellipsis').string.strip()\n",
    "    artist = tr.select_one('.artitst.ellipsis').string.strip()\n",
    "    album = tr.select_one('.albumtitle.ellipsis').string.strip()\n",
    "    line.append({'rank':rank, 'img':img, 'title':title, 'artist':artist, 'album':album})\n"
   ]
  },
  {
   "cell_type": "code",
   "execution_count": null,
   "metadata": {},
   "outputs": [],
   "source": [
    "# 방법 2. 딕셔너리의 리스트로 가져오기\n",
    "rank_list, img_list, title_list, artist_list, album_list = [], [], [], [], []\n",
    "for tr in trs:\n",
    "    rank_list.append(tr.select_one('number').string.strip())\n",
    "    img_list.append('https:' + tr.select_one('.cover > img')['src'])\n",
    "    title_list.append(tr.select_one('.artitst.ellipsis').string.strip())\n",
    "    artist_list.append(tr.select_one('.artitst.ellipsis').string.strip())\n",
    "    album_list.append(tr.select_one('.albumtitle.ellipsis').string.strip())\n",
    "    line.append({'rank':rank, 'img':img, 'title':title, 'artist':artist, 'album':album})\n"
   ]
  },
  {
   "attachments": {},
   "cell_type": "markdown",
   "metadata": {},
   "source": [
    "##### 5. 에러처리"
   ]
  },
  {
   "attachments": {},
   "cell_type": "markdown",
   "metadata": {},
   "source": [
    "##### 6. 모든 페이지에 대해서 처리하기"
   ]
  },
  {
   "cell_type": "code",
   "execution_count": 21,
   "metadata": {},
   "outputs": [
    {
     "data": {
      "text/plain": [
       "datetime.datetime(2023, 4, 24, 15, 4, 28, 875003)"
      ]
     },
     "execution_count": 21,
     "metadata": {},
     "output_type": "execute_result"
    }
   ],
   "source": [
    "# https://www.genie.co.kr/chart/top200?ditc=D&ymd=20230424&hh=15&rtm=Y&pg=1\n",
    "\n",
    "from datetime import datetime\n",
    "now = datetime.now()\n",
    "now"
   ]
  },
  {
   "cell_type": "code",
   "execution_count": 24,
   "metadata": {},
   "outputs": [
    {
     "data": {
      "text/plain": [
       "('20230424', '15')"
      ]
     },
     "execution_count": 24,
     "metadata": {},
     "output_type": "execute_result"
    }
   ],
   "source": [
    "ymd = now.strftime('%Y%m%d')         # ymd = f'{now.get.year}\n",
    "hh = now.strftime('%H')\n",
    "ymd, hh"
   ]
  },
  {
   "cell_type": "code",
   "execution_count": null,
   "metadata": {},
   "outputs": [],
   "source": [
    "from tqdm import tqdm\n",
    "lines = []\n",
    "base_url : 'https://www.genie.co.kr/chart/top200?ditc=D&rtm=Y'\n",
    "for page in tqdm(range(1, 5)):\n",
    "    url = f'{base_url}&ymd={ymd}&hh={hh}&pg={page}'\n",
    "    result = requests.get(url, header=header)\n",
    "    soup = BeautifulSoup(result.text, 'html.parser')\n",
    "    trs = soup.select('tr.list')\n",
    "    for tr in trs:\n",
    "        rank = tr.select_one('number').string.strip()\n",
    "        img = 'https:' + tr.select_one('.cover > img')['src']\n",
    "        title = tr.select_one('.artitst.ellipsis').string.strip()\n",
    "        artist = tr.select_one('.artitst.ellipsis').string.strip()\n",
    "        album = tr.select_one('.albumtitle.ellipsis').string.strip()\n",
    "        line.append({'rank':rank, 'img':img, 'title':title, 'artist':artist, 'album':album})"
   ]
  },
  {
   "cell_type": "markdown",
   "metadata": {},
   "source": [
    "##### 7. 데이터프레임 만들기"
   ]
  },
  {
   "cell_type": "code",
   "execution_count": 31,
   "metadata": {},
   "outputs": [
    {
     "data": {
      "text/html": [
       "<div>\n",
       "<style scoped>\n",
       "    .dataframe tbody tr th:only-of-type {\n",
       "        vertical-align: middle;\n",
       "    }\n",
       "\n",
       "    .dataframe tbody tr th {\n",
       "        vertical-align: top;\n",
       "    }\n",
       "\n",
       "    .dataframe thead th {\n",
       "        text-align: right;\n",
       "    }\n",
       "</style>\n",
       "<table border=\"1\" class=\"dataframe\">\n",
       "  <thead>\n",
       "    <tr style=\"text-align: right;\">\n",
       "      <th></th>\n",
       "    </tr>\n",
       "  </thead>\n",
       "  <tbody>\n",
       "  </tbody>\n",
       "</table>\n",
       "</div>"
      ],
      "text/plain": [
       "Empty DataFrame\n",
       "Columns: []\n",
       "Index: []"
      ]
     },
     "execution_count": 31,
     "metadata": {},
     "output_type": "execute_result"
    }
   ],
   "source": [
    "df = pd.DataFrame(lines)\n",
    "df.head()"
   ]
  },
  {
   "cell_type": "code",
   "execution_count": 39,
   "metadata": {},
   "outputs": [],
   "source": [
    "df.to_csv(f'data/{ymd}{hh}_지니차트.csv', index=False)"
   ]
  },
  {
   "cell_type": "code",
   "execution_count": null,
   "metadata": {},
   "outputs": [],
   "source": []
  }
 ],
 "metadata": {
  "kernelspec": {
   "display_name": "base",
   "language": "python",
   "name": "python3"
  },
  "language_info": {
   "codemirror_mode": {
    "name": "ipython",
    "version": 3
   },
   "file_extension": ".py",
   "mimetype": "text/x-python",
   "name": "python",
   "nbconvert_exporter": "python",
   "pygments_lexer": "ipython3",
   "version": "3.10.10"
  },
  "orig_nbformat": 4
 },
 "nbformat": 4,
 "nbformat_minor": 2
}
