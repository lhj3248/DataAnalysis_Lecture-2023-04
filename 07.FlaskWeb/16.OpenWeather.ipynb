{
 "cells": [
  {
   "attachments": {},
   "cell_type": "markdown",
   "metadata": {},
   "source": [
    "### OpenWeather API 2.5\n",
    "- https://openweathermap.org/current"
   ]
  },
  {
   "cell_type": "code",
   "execution_count": 2,
   "metadata": {},
   "outputs": [],
   "source": [
    "import requests"
   ]
  },
  {
   "cell_type": "code",
   "execution_count": 3,
   "metadata": {},
   "outputs": [],
   "source": [
    "with open('static/key/openweather.txt') as f:\n",
    "    weather_key = f.read()"
   ]
  },
  {
   "cell_type": "code",
   "execution_count": 4,
   "metadata": {},
   "outputs": [
    {
     "data": {
      "text/plain": [
       "{'coord': {'lon': 127.045, 'lat': 37.295},\n",
       " 'weather': [{'id': 800, 'main': 'Clear', 'description': '맑음', 'icon': '01d'}],\n",
       " 'base': 'stations',\n",
       " 'main': {'temp': 15.6,\n",
       "  'feels_like': 14.44,\n",
       "  'temp_min': 14.34,\n",
       "  'temp_max': 15.64,\n",
       "  'pressure': 1017,\n",
       "  'humidity': 47},\n",
       " 'visibility': 10000,\n",
       " 'wind': {'speed': 1.54, 'deg': 330},\n",
       " 'clouds': {'all': 0},\n",
       " 'dt': 1683508476,\n",
       " 'sys': {'type': 1,\n",
       "  'id': 5509,\n",
       "  'country': 'KR',\n",
       "  'sunrise': 1683491418,\n",
       "  'sunset': 1683541583},\n",
       " 'timezone': 32400,\n",
       " 'id': 6573030,\n",
       " 'name': 'Namhyang-dong',\n",
       " 'cod': 200}"
      ]
     },
     "execution_count": 4,
     "metadata": {},
     "output_type": "execute_result"
    }
   ],
   "source": [
    "base_url = 'https://api.openweathermap.org/data/2.5/weather'\n",
    "lat, lon = 37.295, 127.045          # 수원 중심부 좌표\n",
    "url = f'{base_url}?lat={lat}&lon={lon}&appid={weather_key}&units=metric&lang=kr'\n",
    "result = requests.get(url).json()\n",
    "result"
   ]
  },
  {
   "cell_type": "code",
   "execution_count": 5,
   "metadata": {},
   "outputs": [
    {
     "data": {
      "text/plain": [
       "'맑음'"
      ]
     },
     "execution_count": 5,
     "metadata": {},
     "output_type": "execute_result"
    }
   ],
   "source": [
    "desc = result['weather'][0]['description']\n",
    "desc"
   ]
  },
  {
   "cell_type": "code",
   "execution_count": 6,
   "metadata": {},
   "outputs": [
    {
     "data": {
      "text/plain": [
       "'http://api.openweathermap.org/img/w/01d.png'"
      ]
     },
     "execution_count": 6,
     "metadata": {},
     "output_type": "execute_result"
    }
   ],
   "source": [
    "icon_code = result['weather'][0]['icon']\n",
    "icon_url = f'http://api.openweathermap.org/img/w/{icon_code}.png'\n",
    "icon_url"
   ]
  },
  {
   "cell_type": "code",
   "execution_count": 7,
   "metadata": {},
   "outputs": [
    {
     "data": {
      "text/plain": [
       "15.6"
      ]
     },
     "execution_count": 7,
     "metadata": {},
     "output_type": "execute_result"
    }
   ],
   "source": [
    "temp_ = result['main']['temp']\n",
    "temp = round(float(temp_) + 0.01, 1)        # 올바르게 반올림하기 위해 0.01을 더해줌\n",
    "temp"
   ]
  },
  {
   "cell_type": "code",
   "execution_count": 8,
   "metadata": {},
   "outputs": [
    {
     "data": {
      "text/plain": [
       "'<img src=\"http://api.openweathermap.org/img/w/01d.png\" height=\"32\"><strong>맑음</strong>\\n            온도: <strong>15.6</strong>&#8451'"
      ]
     },
     "execution_count": 8,
     "metadata": {},
     "output_type": "execute_result"
    }
   ],
   "source": [
    "html = f'''<img src=\"{icon_url}\" height=\"32\"><strong>{desc}</strong>\n",
    "            온도: <strong>{temp}</strong>&#8451'''\n",
    "html"
   ]
  },
  {
   "cell_type": "code",
   "execution_count": null,
   "metadata": {},
   "outputs": [],
   "source": []
  }
 ],
 "metadata": {
  "kernelspec": {
   "display_name": "base",
   "language": "python",
   "name": "python3"
  },
  "language_info": {
   "codemirror_mode": {
    "name": "ipython",
    "version": 3
   },
   "file_extension": ".py",
   "mimetype": "text/x-python",
   "name": "python",
   "nbconvert_exporter": "python",
   "pygments_lexer": "ipython3",
   "version": "3.10.10"
  },
  "orig_nbformat": 4
 },
 "nbformat": 4,
 "nbformat_minor": 2
}
