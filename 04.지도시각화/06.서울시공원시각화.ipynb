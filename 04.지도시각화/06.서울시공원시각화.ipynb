{
 "cells": [
  {
   "cell_type": "markdown",
   "metadata": {},
   "source": [
    "- 서울시 공원"
   ]
  },
  {
   "cell_type": "code",
   "execution_count": 1,
   "metadata": {},
   "outputs": [],
   "source": [
    "import numpy as np\n",
    "import pandas as pd\n",
    "import folium"
   ]
  },
  {
   "cell_type": "code",
   "execution_count": 2,
   "metadata": {},
   "outputs": [
    {
     "name": "stdout",
     "output_type": "stream",
     "text": [
      "<class 'pandas.core.frame.DataFrame'>\n",
      "RangeIndex: 132 entries, 0 to 131\n",
      "Data columns (total 20 columns):\n",
      " #   Column        Non-Null Count  Dtype  \n",
      "---  ------        --------------  -----  \n",
      " 0   연번            132 non-null    int64  \n",
      " 1   공원명           132 non-null    object \n",
      " 2   공원개요          131 non-null    object \n",
      " 3   면적            129 non-null    object \n",
      " 4   개원일           122 non-null    object \n",
      " 5   주요시설          124 non-null    object \n",
      " 6   주요식물          88 non-null     object \n",
      " 7   안내도           102 non-null    object \n",
      " 8   오시는길          115 non-null    object \n",
      " 9   이용시참고사항       120 non-null    object \n",
      " 10  이미지           132 non-null    object \n",
      " 11  지역            131 non-null    object \n",
      " 12  공원주소          132 non-null    object \n",
      " 13  관리부서          132 non-null    object \n",
      " 14  전화번호          132 non-null    object \n",
      " 15  X좌표(GRS80TM)  122 non-null    float64\n",
      " 16  Y좌표(GRS80TM)  122 non-null    float64\n",
      " 17  X좌표(WGS84)    131 non-null    float64\n",
      " 18  Y좌표(WGS84)    131 non-null    float64\n",
      " 19  바로가기          18 non-null     object \n",
      "dtypes: float64(4), int64(1), object(15)\n",
      "memory usage: 20.8+ KB\n"
     ]
    }
   ],
   "source": [
    "df = pd.read_csv('data/서울시 주요 공원현황.csv', encoding='euc-kr')\n",
    "df.info()"
   ]
  },
  {
   "cell_type": "code",
   "execution_count": 3,
   "metadata": {},
   "outputs": [
    {
     "data": {
      "text/html": [
       "<div>\n",
       "<style scoped>\n",
       "    .dataframe tbody tr th:only-of-type {\n",
       "        vertical-align: middle;\n",
       "    }\n",
       "\n",
       "    .dataframe tbody tr th {\n",
       "        vertical-align: top;\n",
       "    }\n",
       "\n",
       "    .dataframe thead th {\n",
       "        text-align: right;\n",
       "    }\n",
       "</style>\n",
       "<table border=\"1\" class=\"dataframe\">\n",
       "  <thead>\n",
       "    <tr style=\"text-align: right;\">\n",
       "      <th></th>\n",
       "      <th>공원명</th>\n",
       "      <th>면적</th>\n",
       "      <th>주소</th>\n",
       "      <th>경도</th>\n",
       "      <th>위도</th>\n",
       "    </tr>\n",
       "  </thead>\n",
       "  <tbody>\n",
       "    <tr>\n",
       "      <th>0</th>\n",
       "      <td>남산도시자연공원</td>\n",
       "      <td>2896887㎡ 임 야 : 2454140㎡ 녹지대 및 기타시설 : 442747㎡</td>\n",
       "      <td>서울특별시 중구 삼일대로 231(예장동)</td>\n",
       "      <td>126.990377</td>\n",
       "      <td>37.550140</td>\n",
       "    </tr>\n",
       "    <tr>\n",
       "      <th>1</th>\n",
       "      <td>길동생태공원</td>\n",
       "      <td>80683㎡</td>\n",
       "      <td>서울특별시 강동구 천호대로 1291(길동생태공원)</td>\n",
       "      <td>127.154779</td>\n",
       "      <td>37.540394</td>\n",
       "    </tr>\n",
       "    <tr>\n",
       "      <th>2</th>\n",
       "      <td>서울대공원</td>\n",
       "      <td>9132690m²</td>\n",
       "      <td>경기도 과천시 대공원광장로 102</td>\n",
       "      <td>127.019846</td>\n",
       "      <td>37.426449</td>\n",
       "    </tr>\n",
       "  </tbody>\n",
       "</table>\n",
       "</div>"
      ],
      "text/plain": [
       "        공원명                                            면적   \n",
       "0  남산도시자연공원  2896887㎡ 임 야 : 2454140㎡ 녹지대 및 기타시설 : 442747㎡  \\\n",
       "1    길동생태공원                                        80683㎡   \n",
       "2     서울대공원                                     9132690m²   \n",
       "\n",
       "                             주소          경도         위도  \n",
       "0        서울특별시 중구 삼일대로 231(예장동)  126.990377  37.550140  \n",
       "1  서울특별시 강동구 천호대로 1291(길동생태공원)   127.154779  37.540394  \n",
       "2            경기도 과천시 대공원광장로 102  127.019846  37.426449  "
      ]
     },
     "execution_count": 3,
     "metadata": {},
     "output_type": "execute_result"
    }
   ],
   "source": [
    "df = df[['공원명','면적','공원주소','X좌표(WGS84)','Y좌표(WGS84)']]\n",
    "df.columns = ['공원명','면적','주소','경도','위도']\n",
    "df.head(3)"
   ]
  },
  {
   "cell_type": "code",
   "execution_count": 4,
   "metadata": {},
   "outputs": [
    {
     "data": {
      "text/plain": [
       "0"
      ]
     },
     "execution_count": 4,
     "metadata": {},
     "output_type": "execute_result"
    }
   ],
   "source": [
    "df.dropna(subset=['면적','경도'], inplace=True)\n",
    "df.isna().sum().sum()"
   ]
  },
  {
   "cell_type": "markdown",
   "metadata": {},
   "source": [
    "- 면적에 따라 공원크기를 지도에 표시"
   ]
  },
  {
   "cell_type": "code",
   "execution_count": 5,
   "metadata": {},
   "outputs": [
    {
     "data": {
      "text/plain": [
       "60    1349556.4㎡ \n",
       "61       1511198㎡\n",
       "62       1097565㎡\n",
       "63        328018㎡\n",
       "64     총 1447122㎡\n",
       "65       207790㎡ \n",
       "66       1018689㎡\n",
       "67        954553㎡\n",
       "68       1667848㎡\n",
       "69         13224㎡\n",
       "Name: 면적, dtype: object"
      ]
     },
     "execution_count": 5,
     "metadata": {},
     "output_type": "execute_result"
    }
   ],
   "source": [
    "df.면적.head(70).tail(10)"
   ]
  },
  {
   "cell_type": "code",
   "execution_count": 6,
   "metadata": {},
   "outputs": [],
   "source": [
    "# 총 144m 같은 글에서 '총' 지우기\n"
   ]
  },
  {
   "cell_type": "code",
   "execution_count": 7,
   "metadata": {},
   "outputs": [
    {
     "data": {
      "text/plain": [
       "0"
      ]
     },
     "execution_count": 7,
     "metadata": {},
     "output_type": "execute_result"
    }
   ],
   "source": [
    "df.dropna(subset = ['면적','경도'], inplace=True)\n",
    "df.isna().sum().sum()"
   ]
  },
  {
   "attachments": {},
   "cell_type": "markdown",
   "metadata": {},
   "source": [
    "- 면적에 따라 공원크기를 지도에 표시"
   ]
  },
  {
   "cell_type": "code",
   "execution_count": 8,
   "metadata": {},
   "outputs": [
    {
     "data": {
      "text/plain": [
       "0         2896887㎡ 임 야 : 2454140㎡ 녹지대 및 기타시설 : 442747㎡\n",
       "1                                               80683㎡\n",
       "2                                            9132690m²\n",
       "3                                              480994㎡\n",
       "4                                             2284085㎡\n",
       "5                                              8948.1㎡\n",
       "6    휴양 및 편익시설 : 평의자 7개 화장실 23.18㎡ 조경시설 - 은하폭포(높이 1...\n",
       "7                                                6456㎥\n",
       "8    80309㎡ 배수지 시설용량 : 201.000㎥ 송수 펌프용량 : 직송급수계통 30...\n",
       "9                                           1980.4㎡   \n",
       "Name: 면적, dtype: object"
      ]
     },
     "execution_count": 8,
     "metadata": {},
     "output_type": "execute_result"
    }
   ],
   "source": [
    "df.면적.head(10)"
   ]
  },
  {
   "cell_type": "code",
   "execution_count": 9,
   "metadata": {},
   "outputs": [],
   "source": [
    "df.면적[6]\n",
    "df.drop([6], inplace=True)"
   ]
  },
  {
   "cell_type": "code",
   "execution_count": 10,
   "metadata": {},
   "outputs": [],
   "source": [
    "# 시작할 때 있는 '총' 지우기\n",
    "df.면적 =df.면적.str.replace('총 ', '')"
   ]
  },
  {
   "cell_type": "code",
   "execution_count": 11,
   "metadata": {},
   "outputs": [
    {
     "data": {
      "text/plain": [
       "['a', 'b', 'c']"
      ]
     },
     "execution_count": 11,
     "metadata": {},
     "output_type": "execute_result"
    }
   ],
   "source": [
    "# 앞에 있는 숫자만 추출하기 - 구분자 m^2, m, m^3\n",
    "# 구분자가 여러개인 경우 split()\n",
    "import re\n",
    "re.split('[,.]', 'a,b.c')"
   ]
  },
  {
   "cell_type": "code",
   "execution_count": 12,
   "metadata": {},
   "outputs": [
    {
     "data": {
      "text/plain": [
       "0    2896887\n",
       "1      80683\n",
       "2    9132690\n",
       "3     480994\n",
       "4    2284085\n",
       "Name: 면적, dtype: object"
      ]
     },
     "execution_count": 12,
     "metadata": {},
     "output_type": "execute_result"
    }
   ],
   "source": [
    "df.면적 = df.면적.apply(lambda x: re.split('[m㎡㎥]', x) [0])\n",
    "df.면적.head()"
   ]
  },
  {
   "cell_type": "code",
   "execution_count": 13,
   "metadata": {},
   "outputs": [],
   "source": [
    "df.면적 = df.면적.astype(float).astype(int)"
   ]
  },
  {
   "cell_type": "code",
   "execution_count": 14,
   "metadata": {},
   "outputs": [
    {
     "data": {
      "text/html": [
       "<div>\n",
       "<style scoped>\n",
       "    .dataframe tbody tr th:only-of-type {\n",
       "        vertical-align: middle;\n",
       "    }\n",
       "\n",
       "    .dataframe tbody tr th {\n",
       "        vertical-align: top;\n",
       "    }\n",
       "\n",
       "    .dataframe thead th {\n",
       "        text-align: right;\n",
       "    }\n",
       "</style>\n",
       "<table border=\"1\" class=\"dataframe\">\n",
       "  <thead>\n",
       "    <tr style=\"text-align: right;\">\n",
       "      <th></th>\n",
       "      <th>공원명</th>\n",
       "      <th>면적</th>\n",
       "      <th>주소</th>\n",
       "      <th>경도</th>\n",
       "      <th>위도</th>\n",
       "    </tr>\n",
       "  </thead>\n",
       "  <tbody>\n",
       "    <tr>\n",
       "      <th>0</th>\n",
       "      <td>남산도시자연공원</td>\n",
       "      <td>2896887</td>\n",
       "      <td>서울특별시 중구 삼일대로 231(예장동)</td>\n",
       "      <td>126.990377</td>\n",
       "      <td>37.550140</td>\n",
       "    </tr>\n",
       "    <tr>\n",
       "      <th>1</th>\n",
       "      <td>길동생태공원</td>\n",
       "      <td>80683</td>\n",
       "      <td>서울특별시 강동구 천호대로 1291(길동생태공원)</td>\n",
       "      <td>127.154779</td>\n",
       "      <td>37.540394</td>\n",
       "    </tr>\n",
       "    <tr>\n",
       "      <th>2</th>\n",
       "      <td>서울대공원</td>\n",
       "      <td>9132690</td>\n",
       "      <td>경기도 과천시 대공원광장로 102</td>\n",
       "      <td>127.019846</td>\n",
       "      <td>37.426449</td>\n",
       "    </tr>\n",
       "    <tr>\n",
       "      <th>3</th>\n",
       "      <td>서울숲</td>\n",
       "      <td>480994</td>\n",
       "      <td>서울특별시 성동구 뚝섬로 273 (성수동1가)</td>\n",
       "      <td>127.041798</td>\n",
       "      <td>37.543072</td>\n",
       "    </tr>\n",
       "    <tr>\n",
       "      <th>4</th>\n",
       "      <td>월드컵공원</td>\n",
       "      <td>2284085</td>\n",
       "      <td>서울특별시 마포구 하늘공원로 84(월드컵공원)</td>\n",
       "      <td>126.878907</td>\n",
       "      <td>37.571805</td>\n",
       "    </tr>\n",
       "  </tbody>\n",
       "</table>\n",
       "</div>"
      ],
      "text/plain": [
       "        공원명       면적                            주소          경도         위도\n",
       "0  남산도시자연공원  2896887        서울특별시 중구 삼일대로 231(예장동)  126.990377  37.550140\n",
       "1    길동생태공원    80683  서울특별시 강동구 천호대로 1291(길동생태공원)   127.154779  37.540394\n",
       "2     서울대공원  9132690            경기도 과천시 대공원광장로 102  127.019846  37.426449\n",
       "3       서울숲   480994    서울특별시 성동구 뚝섬로 273 (성수동1가)   127.041798  37.543072\n",
       "4     월드컵공원  2284085     서울특별시 마포구 하늘공원로 84(월드컵공원)  126.878907  37.571805"
      ]
     },
     "execution_count": 14,
     "metadata": {},
     "output_type": "execute_result"
    }
   ],
   "source": [
    "df.head()"
   ]
  },
  {
   "cell_type": "markdown",
   "metadata": {},
   "source": [
    "- 공원 크기에 따라 분류"
   ]
  },
  {
   "cell_type": "code",
   "execution_count": 15,
   "metadata": {},
   "outputs": [
    {
     "data": {
      "text/html": [
       "<div>\n",
       "<style scoped>\n",
       "    .dataframe tbody tr th:only-of-type {\n",
       "        vertical-align: middle;\n",
       "    }\n",
       "\n",
       "    .dataframe tbody tr th {\n",
       "        vertical-align: top;\n",
       "    }\n",
       "\n",
       "    .dataframe thead th {\n",
       "        text-align: right;\n",
       "    }\n",
       "</style>\n",
       "<table border=\"1\" class=\"dataframe\">\n",
       "  <thead>\n",
       "    <tr style=\"text-align: right;\">\n",
       "      <th></th>\n",
       "      <th>공원명</th>\n",
       "      <th>면적</th>\n",
       "      <th>주소</th>\n",
       "      <th>경도</th>\n",
       "      <th>위도</th>\n",
       "      <th>분류</th>\n",
       "      <th>크기</th>\n",
       "    </tr>\n",
       "  </thead>\n",
       "  <tbody>\n",
       "    <tr>\n",
       "      <th>0</th>\n",
       "      <td>남산도시자연공원</td>\n",
       "      <td>2896887</td>\n",
       "      <td>서울특별시 중구 삼일대로 231(예장동)</td>\n",
       "      <td>126.990377</td>\n",
       "      <td>37.550140</td>\n",
       "      <td>대형</td>\n",
       "      <td>15</td>\n",
       "    </tr>\n",
       "    <tr>\n",
       "      <th>1</th>\n",
       "      <td>길동생태공원</td>\n",
       "      <td>80683</td>\n",
       "      <td>서울특별시 강동구 천호대로 1291(길동생태공원)</td>\n",
       "      <td>127.154779</td>\n",
       "      <td>37.540394</td>\n",
       "      <td>소형</td>\n",
       "      <td>3</td>\n",
       "    </tr>\n",
       "    <tr>\n",
       "      <th>2</th>\n",
       "      <td>서울대공원</td>\n",
       "      <td>9132690</td>\n",
       "      <td>경기도 과천시 대공원광장로 102</td>\n",
       "      <td>127.019846</td>\n",
       "      <td>37.426449</td>\n",
       "      <td>대형</td>\n",
       "      <td>15</td>\n",
       "    </tr>\n",
       "    <tr>\n",
       "      <th>3</th>\n",
       "      <td>서울숲</td>\n",
       "      <td>480994</td>\n",
       "      <td>서울특별시 성동구 뚝섬로 273 (성수동1가)</td>\n",
       "      <td>127.041798</td>\n",
       "      <td>37.543072</td>\n",
       "      <td>중형</td>\n",
       "      <td>7</td>\n",
       "    </tr>\n",
       "    <tr>\n",
       "      <th>4</th>\n",
       "      <td>월드컵공원</td>\n",
       "      <td>2284085</td>\n",
       "      <td>서울특별시 마포구 하늘공원로 84(월드컵공원)</td>\n",
       "      <td>126.878907</td>\n",
       "      <td>37.571805</td>\n",
       "      <td>대형</td>\n",
       "      <td>15</td>\n",
       "    </tr>\n",
       "  </tbody>\n",
       "</table>\n",
       "</div>"
      ],
      "text/plain": [
       "        공원명       면적                            주소          경도         위도  분류   \n",
       "0  남산도시자연공원  2896887        서울특별시 중구 삼일대로 231(예장동)  126.990377  37.550140  대형  \\\n",
       "1    길동생태공원    80683  서울특별시 강동구 천호대로 1291(길동생태공원)   127.154779  37.540394  소형   \n",
       "2     서울대공원  9132690            경기도 과천시 대공원광장로 102  127.019846  37.426449  대형   \n",
       "3       서울숲   480994    서울특별시 성동구 뚝섬로 273 (성수동1가)   127.041798  37.543072  중형   \n",
       "4     월드컵공원  2284085     서울특별시 마포구 하늘공원로 84(월드컵공원)  126.878907  37.571805  대형   \n",
       "\n",
       "   크기  \n",
       "0  15  \n",
       "1   3  \n",
       "2  15  \n",
       "3   7  \n",
       "4  15  "
      ]
     },
     "execution_count": 15,
     "metadata": {},
     "output_type": "execute_result"
    }
   ],
   "source": [
    "# 기준: 소형 < 100000 , 중형 < 1000000 , 대형\n",
    "criteria = [0, 100000, 1000000, 200000000]\n",
    "labels = ['소형', '중형', '대형']\n",
    "size_info = [3, 7, 15]\n",
    "df['분류'] = pd.cut(df.면적, criteria, labels= labels)\n",
    "df['크기'] = pd.cut(df.면적, criteria, labels= size_info)\n",
    "df.head()\n",
    "\n"
   ]
  },
  {
   "cell_type": "code",
   "execution_count": 16,
   "metadata": {},
   "outputs": [],
   "source": [
    "df.크기 = df.크기.astype(int)"
   ]
  },
  {
   "cell_type": "code",
   "execution_count": 17,
   "metadata": {},
   "outputs": [],
   "source": [
    "df.to_csv('data/서울공원요약.csv', index=False)"
   ]
  },
  {
   "cell_type": "code",
   "execution_count": 21,
   "metadata": {},
   "outputs": [],
   "source": [
    "import folium"
   ]
  },
  {
   "cell_type": "markdown",
   "metadata": {},
   "source": [
    "- 공원 시각화"
   ]
  },
  {
   "cell_type": "code",
   "execution_count": 24,
   "metadata": {},
   "outputs": [
    {
     "ename": "TypeError",
     "evalue": "'module' object is not callable",
     "output_type": "error",
     "traceback": [
      "\u001b[1;31m---------------------------------------------------------------------------\u001b[0m",
      "\u001b[1;31mTypeError\u001b[0m                                 Traceback (most recent call last)",
      "Cell \u001b[1;32mIn[24], line 1\u001b[0m\n\u001b[1;32m----> 1\u001b[0m park \u001b[39m=\u001b[39m folium\u001b[39m.\u001b[39;49mmap([\u001b[39m37.55\u001b[39;49m, \u001b[39m126\u001b[39;49m,\u001b[39m98\u001b[39;49m], zoom_start\u001b[39m=\u001b[39;49m\u001b[39m11\u001b[39;49m)\n\u001b[0;32m      2\u001b[0m \u001b[39mfor\u001b[39;00m i \u001b[39min\u001b[39;00m df\u001b[39m.\u001b[39mindex:\n\u001b[0;32m      3\u001b[0m     folium\u001b[39m.\u001b[39mCircleMarker(\n\u001b[0;32m      4\u001b[0m         location\u001b[39m=\u001b[39m[df\u001b[39m.\u001b[39m위도[i], df\u001b[39m.\u001b[39m경도[i]],\n\u001b[0;32m      5\u001b[0m         radius\u001b[39m=\u001b[39m(df\u001b[39m.\u001b[39m크기)[i],\n\u001b[1;32m   (...)\u001b[0m\n\u001b[0;32m      8\u001b[0m         color\u001b[39m=\u001b[39m\u001b[39m'\u001b[39m\u001b[39mcrimson\u001b[39m\u001b[39m'\u001b[39m, fill_color\u001b[39m=\u001b[39m\u001b[39m'\u001b[39m\u001b[39mcrimson\u001b[39m\u001b[39m'\u001b[39m\n\u001b[0;32m      9\u001b[0m     )\u001b[39m.\u001b[39madd_to(park)\n",
      "\u001b[1;31mTypeError\u001b[0m: 'module' object is not callable"
     ]
    }
   ],
   "source": [
    "park = folium.map([37.55, 126,98], zoom_start=11)\n",
    "for i in df.index:\n",
    "    folium.CircleMarker(\n",
    "        location=[df.위도[i], df.경도[i]],\n",
    "        radius=(df.크기)[i],\n",
    "        tooltip=df.공원명[i],\n",
    "        popup=folium.Popup(df.주소[i], max_width=200),\n",
    "        color='crimson', fill_color='crimson'\n",
    "    ).add_to(park)\n",
    "title_html = '<h3 align=\"center\" style=\"font-size:20px\">서울시 공원 현황</h3>'\n",
    "park.get_root().html.add_child(folium.Element(title_html))\n",
    "park\n"
   ]
  },
  {
   "cell_type": "code",
   "execution_count": null,
   "metadata": {},
   "outputs": [],
   "source": []
  }
 ],
 "metadata": {
  "kernelspec": {
   "display_name": "base",
   "language": "python",
   "name": "python3"
  },
  "language_info": {
   "codemirror_mode": {
    "name": "ipython",
    "version": 3
   },
   "file_extension": ".py",
   "mimetype": "text/x-python",
   "name": "python",
   "nbconvert_exporter": "python",
   "pygments_lexer": "ipython3",
   "version": "3.10.10"
  },
  "orig_nbformat": 4
 },
 "nbformat": 4,
 "nbformat_minor": 2
}
