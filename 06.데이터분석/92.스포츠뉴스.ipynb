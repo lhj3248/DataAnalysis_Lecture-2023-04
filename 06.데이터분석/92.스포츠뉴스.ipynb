{
 "cells": [
  {
   "attachments": {},
   "cell_type": "markdown",
   "metadata": {},
   "source": [
    "### 네이버 스포츠뉴스 크롤링 - 워드 클라우드"
   ]
  },
  {
   "cell_type": "code",
   "execution_count": 1,
   "metadata": {},
   "outputs": [],
   "source": [
    "import time, requests\n",
    "import warnings\n",
    "from bs4 import BeautifulSoup\n",
    "from selenium import webdriver\n",
    "from selenium.webdriver.common.by import By\n",
    "\n",
    "warnings.filterwarnings('ignore')"
   ]
  },
  {
   "cell_type": "code",
   "execution_count": 2,
   "metadata": {},
   "outputs": [],
   "source": [
    "events = ['kbaseball','wbaseball','kfootball','wfootball','basketball','volleyball','golf','general']\n",
    "base_url = 'https://sports.news.naver.com/'\n",
    "sub_url = '/news/index?isphoto=N&page='"
   ]
  },
  {
   "cell_type": "code",
   "execution_count": 3,
   "metadata": {},
   "outputs": [],
   "source": [
    "driver = webdriver.Chrome('C:/Users/YONSAI/Downloads/chromedriver.exe')\n",
    "url = f'{base_url}kbaseball{sub_url}1'\n",
    "driver.get(url)"
   ]
  },
  {
   "cell_type": "code",
   "execution_count": 4,
   "metadata": {},
   "outputs": [
    {
     "data": {
      "text/plain": [
       "20"
      ]
     },
     "execution_count": 4,
     "metadata": {},
     "output_type": "execute_result"
    }
   ],
   "source": [
    "soup = BeautifulSoup(driver.page_source, 'html.parser')\n",
    "lis = soup.select('.news_list > ul > li')\n",
    "len(lis)"
   ]
  },
  {
   "cell_type": "code",
   "execution_count": 5,
   "metadata": {},
   "outputs": [
    {
     "data": {
      "text/plain": [
       "\"'대통령실 초청' 전국유소년야구대회, 5월 1일 개막…유희관·양준혁·김선우 등 원포인트레슨\""
      ]
     },
     "execution_count": 5,
     "metadata": {},
     "output_type": "execute_result"
    }
   ],
   "source": [
    "title = lis[0].select_one('.title').get_text().strip()\n",
    "title"
   ]
  },
  {
   "attachments": {},
   "cell_type": "markdown",
   "metadata": {},
   "source": [
    "- 종목별로 몇 페이지가 있는지 알아보기"
   ]
  },
  {
   "cell_type": "code",
   "execution_count": 6,
   "metadata": {},
   "outputs": [
    {
     "data": {
      "text/plain": [
       "{'kbaseball': 13,\n",
       " 'wbaseball': 6,\n",
       " 'kfootball': 6,\n",
       " 'wfootball': 20,\n",
       " 'basketball': 5,\n",
       " 'volleyball': 2,\n",
       " 'golf': 5,\n",
       " 'general': 5}"
      ]
     },
     "execution_count": 6,
     "metadata": {},
     "output_type": "execute_result"
    }
   ],
   "source": [
    "event_dict = {}\n",
    "for event in events:\n",
    "    url = f'{base_url}{event}{sub_url}1'\n",
    "    driver.get(url)\n",
    "    time.sleep(1)\n",
    "\n",
    "    next_clicked = 0\n",
    "    while True:\n",
    "        try:\n",
    "            driver.find_element(By.CSS_SELECTOR, '.paginate > .next').click()\n",
    "            next_clicked += 1\n",
    "            time.sleep(2)\n",
    "        except:\n",
    "            pages = driver.find_elements(By.CSS_SELECTOR, '.paginate > a')\n",
    "            num_pages = len(pages) + next_clicked * 10 if next_clicked >= 1 else len(pages) + 1\n",
    "            event_dict[event] = num_pages\n",
    "            break\n",
    "event_dict"
   ]
  },
  {
   "attachments": {},
   "cell_type": "markdown",
   "metadata": {},
   "source": [
    "- 모든 종목, 모든 페이지에 대해서 타이틀 가져오기"
   ]
  },
  {
   "cell_type": "code",
   "execution_count": 7,
   "metadata": {},
   "outputs": [],
   "source": [
    "sports_title = ''\n",
    "for event in event_dict.keys():\n",
    "    for page in range(1, event_dict[event]+1):\n",
    "        url = f'{base_url}{event}{sub_url}{page}'\n",
    "        driver.get(url)\n",
    "        time.sleep(2)\n",
    "\n",
    "        soup = BeautifulSoup(driver.page_source, 'html.parser')\n",
    "        lis = soup.select('.news_list > ul > li')\n",
    "        for li in lis:\n",
    "            sports_title += li.select_one('.title').get_text().strip() + '\\n'"
   ]
  },
  {
   "cell_type": "code",
   "execution_count": 8,
   "metadata": {},
   "outputs": [
    {
     "data": {
      "text/plain": [
       "1206"
      ]
     },
     "execution_count": 8,
     "metadata": {},
     "output_type": "execute_result"
    }
   ],
   "source": [
    "len(sports_title.split('\\n'))"
   ]
  },
  {
   "cell_type": "code",
   "execution_count": 9,
   "metadata": {},
   "outputs": [],
   "source": [
    "driver.close()"
   ]
  },
  {
   "attachments": {},
   "cell_type": "markdown",
   "metadata": {},
   "source": [
    "- Word Cloud 만들기"
   ]
  },
  {
   "cell_type": "code",
   "execution_count": 10,
   "metadata": {},
   "outputs": [],
   "source": [
    "import re, nltk\n",
    "from konlpy.tag import Okt\n",
    "import numpy as np\n",
    "from PIL import Image\n",
    "import matplotlib.pyplot as plt\n",
    "from wordcloud import WordCloud\n",
    "plt.rcParams['font.family'] = 'Malgun Gothic'\n",
    "plt.rcParams['axes.unicode_minus'] = False"
   ]
  },
  {
   "cell_type": "code",
   "execution_count": 11,
   "metadata": {},
   "outputs": [
    {
     "data": {
      "text/plain": [
       "['대통령실', '초청', '국유', '소년', '야구', '대회', '개막', '유희관', '양준혁', '김선우']"
      ]
     },
     "execution_count": 11,
     "metadata": {},
     "output_type": "execute_result"
    }
   ],
   "source": [
    "okt = Okt()\n",
    "tokens = okt.nouns(sports_title)            # 문장에서 명사 추출\n",
    "tokens[:10]"
   ]
  },
  {
   "cell_type": "code",
   "execution_count": 12,
   "metadata": {},
   "outputs": [],
   "source": [
    "# 영문자, 숫자 제거\n",
    "new_tokens = []\n",
    "for token in tokens:\n",
    "    item = re.sub('[A-Za-z0-9]', '', token)\n",
    "    if item:            # 빈 문자열이면 False, 즉, 빈 문자열이 아닌 것만 추가\n",
    "        new_tokens.append(item)"
   ]
  },
  {
   "attachments": {},
   "cell_type": "markdown",
   "metadata": {},
   "source": [
    "- 불용어 제거를 위한 반복"
   ]
  },
  {
   "cell_type": "code",
   "execution_count": 13,
   "metadata": {},
   "outputs": [
    {
     "data": {
      "image/png": "[encoded data removed]",
      "text/plain": [
       "<Figure size 1200x600 with 1 Axes>"
      ]
     },
     "metadata": {},
     "output_type": "display_data"
    }
   ],
   "source": [
    "news = nltk.Text(new_tokens, name='스포츠 뉴스')\n",
    "plt.figure(figsize=(12,6))\n",
    "news.plot(50);"
   ]
  },
  {
   "cell_type": "code",
   "execution_count": 14,
   "metadata": {},
   "outputs": [
    {
     "data": {
      "text/plain": [
       "['대통령실', '초청', '국유', '소년', '야구', '대회', '개막', '유희관', '양준혁', '김선우']"
      ]
     },
     "execution_count": 14,
     "metadata": {},
     "output_type": "execute_result"
    }
   ],
   "source": [
    "stoptext = \"\"\"\n",
    "    위 골 호골 경기 명 승 예비 안 팀 첫 점 환 호 입 니 등 수 두 전\n",
    "\"\"\"\n",
    "stop_words = stoptext.split()\n",
    "new_tokens = [word for word in new_tokens if word not in stop_words]\n",
    "new_tokens[:10]"
   ]
  },
  {
   "attachments": {},
   "cell_type": "markdown",
   "metadata": {},
   "source": [
    "- 사각형 워드 클라우드"
   ]
  },
  {
   "cell_type": "code",
   "execution_count": 2,
   "metadata": {},
   "outputs": [
    {
     "ename": "NameError",
     "evalue": "name 'WordCloud' is not defined",
     "output_type": "error",
     "traceback": [
      "\u001b[1;31m---------------------------------------------------------------------------\u001b[0m",
      "\u001b[1;31mNameError\u001b[0m                                 Traceback (most recent call last)",
      "Cell \u001b[1;32mIn[2], line 1\u001b[0m\n\u001b[1;32m----> 1\u001b[0m wc \u001b[39m=\u001b[39m WordCloud(\n\u001b[0;32m      2\u001b[0m     background_color\u001b[39m=\u001b[39m\u001b[39m'\u001b[39m\u001b[39mwhite\u001b[39m\u001b[39m'\u001b[39m, random_state\u001b[39m=\u001b[39m\u001b[39m2023\u001b[39m,\n\u001b[0;32m      3\u001b[0m     relative_scaling\u001b[39m=\u001b[39m\u001b[39m0.2\u001b[39m\n\u001b[0;32m      4\u001b[0m )\u001b[39m.\u001b[39mgenerate_from_frequencies(\u001b[39mdict\u001b[39m(news\u001b[39m.\u001b[39mvocab()\u001b[39m.\u001b[39mmost_common(\u001b[39m300\u001b[39m)))\n\u001b[0;32m      5\u001b[0m plt\u001b[39m.\u001b[39mfigure(figsize\u001b[39m=\u001b[39m(\u001b[39m10\u001b[39m,\u001b[39m6\u001b[39m))\n\u001b[0;32m      6\u001b[0m plt\u001b[39m.\u001b[39mimshow(wc, interpolation\u001b[39m=\u001b[39m\u001b[39m'\u001b[39m\u001b[39mbilinear\u001b[39m\u001b[39m'\u001b[39m)\n",
      "\u001b[1;31mNameError\u001b[0m: name 'WordCloud' is not defined"
     ]
    }
   ],
   "source": [
    "wc = WordCloud(\n",
    "    background_color='white', random_state=2023,\n",
    "    relative_scaling=0.2\n",
    ").generate_from_frequencies(dict(news.vocab().most_common(300)))\n",
    "plt.figure(figsize=(10,6))\n",
    "plt.imshow(wc, interpolation='bilinear')\n",
    "plt.axis('off');"
   ]
  },
  {
   "cell_type": "code",
   "execution_count": 1,
   "metadata": {},
   "outputs": [
    {
     "ename": "NameError",
     "evalue": "name 'np' is not defined",
     "output_type": "error",
     "traceback": [
      "\u001b[1;31m---------------------------------------------------------------------------\u001b[0m",
      "\u001b[1;31mNameError\u001b[0m                                 Traceback (most recent call last)",
      "Cell \u001b[1;32mIn[1], line 1\u001b[0m\n\u001b[1;32m----> 1\u001b[0m mask \u001b[39m=\u001b[39m np\u001b[39m.\u001b[39marray(Image\u001b[39m.\u001b[39mopen(\u001b[39m'\u001b[39m\u001b[39mdata/ball.jpg\u001b[39m\u001b[39m'\u001b[39m))\n\u001b[0;32m      2\u001b[0m wc \u001b[39m=\u001b[39m WordCloud(\n\u001b[0;32m      3\u001b[0m     background_color\u001b[39m=\u001b[39m\u001b[39m'\u001b[39m\u001b[39mwhite\u001b[39m\u001b[39m'\u001b[39m, random_state\u001b[39m=\u001b[39m\u001b[39m2023\u001b[39m,\n\u001b[0;32m      4\u001b[0m     font_path\u001b[39m=\u001b[39m\u001b[39m'\u001b[39m\u001b[39mC:/Users/YONSAI/AppData/Local/Microsoft/Windows/Fonts/NanumGothic.ttf\u001b[39m\u001b[39m'\u001b[39m, \n\u001b[0;32m      5\u001b[0m     relative_scaling\u001b[39m=\u001b[39m\u001b[39m0.2\u001b[39m, mask\u001b[39m=\u001b[39mmask\n\u001b[0;32m      6\u001b[0m )\u001b[39m.\u001b[39mgenerate_from_frequencies(\u001b[39mdict\u001b[39m(news\u001b[39m.\u001b[39mvocab()\u001b[39m.\u001b[39mmost_common(\u001b[39m300\u001b[39m)))\n\u001b[0;32m      8\u001b[0m plt\u001b[39m.\u001b[39mfigure(figsize\u001b[39m=\u001b[39m(\u001b[39m10\u001b[39m,\u001b[39m10\u001b[39m))\n",
      "\u001b[1;31mNameError\u001b[0m: name 'np' is not defined"
     ]
    }
   ],
   "source": [
    "mask = np.array(Image.open('data/ball.jpg'))\n",
    "wc = WordCloud(\n",
    "    background_color='white', random_state=2023,\n",
    "    font_path='C:/Users/YONSAI/AppData/Local/Microsoft/Windows/Fonts/NanumGothic.ttf', \n",
    "    relative_scaling=0.2, mask=mask\n",
    ").generate_from_frequencies(dict(news.vocab().most_common(300)))\n",
    "\n",
    "plt.figure(figsize=(10,10))\n",
    "plt.imshow(wc, interpolation='bilinear')\n",
    "plt.axis('off');"
   ]
  },
  {
   "cell_type": "code",
   "execution_count": null,
   "metadata": {},
   "outputs": [],
   "source": []
  }
 ],
 "metadata": {
  "kernelspec": {
   "display_name": "base",
   "language": "python",
   "name": "python3"
  },
  "language_info": {
   "codemirror_mode": {
    "name": "ipython",
    "version": 3
   },
   "file_extension": ".py",
   "mimetype": "text/x-python",
   "name": "python",
   "nbconvert_exporter": "python",
   "pygments_lexer": "ipython3",
   "version": "3.10.10"
  },
  "orig_nbformat": 4
 },
 "nbformat": 4,
 "nbformat_minor": 2
}
