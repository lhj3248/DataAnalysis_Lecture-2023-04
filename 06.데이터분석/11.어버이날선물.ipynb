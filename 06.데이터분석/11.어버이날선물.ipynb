{
 "cells": [
  {
   "attachments": {},
   "cell_type": "markdown",
   "metadata": {},
   "source": [
    "### 네이버 지식인 - 어버이날 선물"
   ]
  },
  {
   "cell_type": "code",
   "execution_count": 1,
   "metadata": {},
   "outputs": [],
   "source": [
    "import time\n",
    "from selenium import webdriver\n",
    "from selenium.webdriver.common.by import By\n",
    "from bs4 import BeautifulSoup\n",
    "from urllib.parse import quote\n",
    "from tqdm import tqdm\n",
    "import warnings\n",
    "warnings.filterwarnings('ignore')"
   ]
  },
  {
   "attachments": {},
   "cell_type": "markdown",
   "metadata": {},
   "source": [
    "- 지식인 어버이날 선물 검색결과 화면"
   ]
  },
  {
   "cell_type": "code",
   "execution_count": 2,
   "metadata": {},
   "outputs": [],
   "source": [
    "base_url = 'https://kin.naver.com/search/list.naver'\n",
    "url = f'{base_url}?query={quote(\"어버이날 선물\")}&page={1}'\n",
    "driver = webdriver.Chrome('C:/Users/YONSAI/Downloads/chromedriver.exe')\n",
    "driver.get(url)\n",
    "soup = BeautifulSoup(driver.page_source, 'html.parser')"
   ]
  },
  {
   "cell_type": "code",
   "execution_count": 3,
   "metadata": {},
   "outputs": [
    {
     "data": {
      "text/plain": [
       "10"
      ]
     },
     "execution_count": 3,
     "metadata": {},
     "output_type": "execute_result"
    }
   ],
   "source": [
    "lis = soup.select('ul.basic1 > li')\n",
    "len(lis)"
   ]
  },
  {
   "attachments": {},
   "cell_type": "markdown",
   "metadata": {},
   "source": [
    "- 답변 갯수가 5개보다 큰 항목을 선택"
   ]
  },
  {
   "cell_type": "code",
   "execution_count": 4,
   "metadata": {},
   "outputs": [
    {
     "data": {
      "text/plain": [
       "'https://kin.naver.com/qna/detail.naver?d1id=8&dirId=8040202&docId=444047034&qb=7Ja067KE7J2064KgIOyEoOusvA==&enc=utf8&section=kin&rank=5&search_sort=0&spq=0'"
      ]
     },
     "execution_count": 4,
     "metadata": {},
     "output_type": "execute_result"
    }
   ],
   "source": [
    "li = lis[4]\n",
    "sub_url = li.select_one('a._searchListTitleAnchor')['href']\n",
    "sub_url"
   ]
  },
  {
   "cell_type": "code",
   "execution_count": 5,
   "metadata": {},
   "outputs": [],
   "source": [
    "driver.get(sub_url)"
   ]
  },
  {
   "cell_type": "code",
   "execution_count": 6,
   "metadata": {},
   "outputs": [
    {
     "name": "stdout",
     "output_type": "stream",
     "text": [
      "8 1\n"
     ]
    }
   ],
   "source": [
    "# 더보기 클릭 횟수 구하기\n",
    "count = int(driver.find_element(By.CSS_SELECTOR, '._answerCount.num').text)\n",
    "click_count = (count - 1) // 5\n",
    "print(count, click_count)"
   ]
  },
  {
   "cell_type": "code",
   "execution_count": 7,
   "metadata": {},
   "outputs": [],
   "source": [
    "# 더보기 클릭 횟수만큼 클릭하기\n",
    "for i in range(click_count):\n",
    "    driver.find_element(By.ID, 'nextPageButton').click()\n",
    "    time.sleep(2)"
   ]
  },
  {
   "cell_type": "code",
   "execution_count": 8,
   "metadata": {},
   "outputs": [
    {
     "data": {
      "text/plain": [
       "8"
      ]
     },
     "execution_count": 8,
     "metadata": {},
     "output_type": "execute_result"
    }
   ],
   "source": [
    "# 개별 화면에서 답변 목록 찾기\n",
    "soup = BeautifulSoup(driver.page_source, 'html.parser')\n",
    "divs = soup.select('div.answer-content__item._contentWrap._answer')\n",
    "len(divs)"
   ]
  },
  {
   "cell_type": "code",
   "execution_count": 9,
   "metadata": {},
   "outputs": [
    {
     "name": "stdout",
     "output_type": "stream",
     "text": [
      "곧 다가올 어버이날 선물을 준비하고 있네요\n",
      "진짜 지금 달력보니 한달도 안남았네요\n",
      "​\n",
      "같이 운동하시면 커플 트레이닝복세트보다\n",
      "커플 운동화는 어떨까요?\n",
      "어버이날에 부모님에게 좋은 선물이 될것같아요\n",
      "​\n",
      "쿠션감이 좋고 충격을 덜 받아서 뒤꿈치가 부담이 없다는게 특징이에요\n",
      "그리고 발을 잘 감싸줘서 신고 다니기 편해요!\n",
      "이 런닝화는 지금 판매 옵션이\n",
      "색상은 8개며 사이즈는 지금 230에서 280까지 있어요\n",
      "무엇보다 상품평이 무려 만개를 넘어요! 대박 \n",
      "이렇게 후기 많은 운동화 보기 힘들어요!\n",
      "​\n",
      "어버이날 부모님 선물로 운동화를 추천해봤어요!!\n",
      "추천드린 운동화로 즐거운 어버이날 보내셨으면 좋겠네요 :D\n",
      "​\n",
      "아! 이 답변은 쿠팡파트너스 활동의 일환으로,\n",
      "이에 따른 일정액의 수수료를 제공받아요.\n",
      "​\n",
      "혹시 도움이 되었다면 채택 부탁드려요 :D\n"
     ]
    }
   ],
   "source": [
    "# 답변 목록에서 개별 답변을 선택하고, 글을 추출하기\n",
    "div = divs[0]\n",
    "ps = div.select('p.se-text-paragraph')\n",
    "for p in ps:\n",
    "    print(p.get_text())"
   ]
  },
  {
   "cell_type": "code",
   "execution_count": 10,
   "metadata": {},
   "outputs": [],
   "source": [
    "# 하나의 글에서 모든 답변을 추출하기\n",
    "lines = []\n",
    "for div in divs:\n",
    "    ps = div.select('p.se-text-paragraph')\n",
    "    for p in ps:\n",
    "        lines.append(p.get_text())"
   ]
  },
  {
   "cell_type": "code",
   "execution_count": 11,
   "metadata": {},
   "outputs": [
    {
     "data": {
      "text/plain": [
       "['곧 다가올 어버이날 선물을 준비하고 있네요',\n",
       " '진짜 지금 달력보니 한달도 안남았네요',\n",
       " '\\u200b',\n",
       " '같이 운동하시면 커플 트레이닝복세트보다',\n",
       " '커플 운동화는 어떨까요?',\n",
       " '어버이날에 부모님에게 좋은 선물이 될것같아요',\n",
       " '\\u200b',\n",
       " '쿠션감이 좋고 충격을 덜 받아서 뒤꿈치가 부담이 없다는게 특징이에요',\n",
       " '그리고 발을 잘 감싸줘서 신고 다니기 편해요!',\n",
       " '이 런닝화는 지금 판매 옵션이',\n",
       " '색상은 8개며 사이즈는 지금 230에서 280까지 있어요',\n",
       " '무엇보다 상품평이 무려 만개를 넘어요! 대박 ',\n",
       " '이렇게 후기 많은 운동화 보기 힘들어요!',\n",
       " '\\u200b',\n",
       " '어버이날 부모님 선물로 운동화를 추천해봤어요!!',\n",
       " '추천드린 운동화로 즐거운 어버이날 보내셨으면 좋겠네요 :D',\n",
       " '\\u200b',\n",
       " '아! 이 답변은 쿠팡파트너스 활동의 일환으로,',\n",
       " '이에 따른 일정액의 수수료를 제공받아요.',\n",
       " '\\u200b',\n",
       " '혹시 도움이 되었다면 채택 부탁드려요 :D',\n",
       " '미즈노 혹은 아식스 정도가 적당한거 같아요',\n",
       " '트래킹화 종류 많으니 한번 찾아보세요~',\n",
       " '스케처스 고워크 추천해요',\n",
       " '\\u200b',\n",
       " '발편한 운동화 끝판왕이라고 입소문 난 신발입니다. ',\n",
       " '케주얼 스타일이라 데일리 아이템이고 신고 벗기 편한 슬립온형태로 쿠션감 높아 부모님께 만족도가 높은 선물이 될 것이라 생각됩니다. ',\n",
       " '\\u200b',\n",
       " '어버이날-선물-추천-BEST10',\n",
       " '\\u200b',\n",
       " '답변드립니다.',\n",
       " '\\u200b',\n",
       " '어버이날 선물로 부모님께 드릴 운동화를 고르시는군요.',\n",
       " '두분이 50대이시고, 운동과 일상에서 함께 신으실수 있는 신발을 찾으시는거고요.',\n",
       " '\\u200b',\n",
       " '대표적으로 아웃도어 브랜드를 추천드립니다.',\n",
       " '50대는 일반적으로 건강에 관심이 많아, 가벼운 산책이나 트레킹을 즐기는 편입니다.',\n",
       " '그래서 일반적으로 아웃도어 브랜드를 선호합니다.',\n",
       " '\\u200b',\n",
       " '이제 날이 따듯해지면서 더욱 바깥 활동을 많이 하실텐데,',\n",
       " '통기성도 있어서 봄여름가을 신으시기에도 적합해 보입니다. 10만원 안쪽이고요.',\n",
       " '\\u200b',\n",
       " '가장 대표적인 아웃도어 브랜드 노스페이스로 추천드립니다.',\n",
       " '제품 후기도 좋아서, 도움되시라고 링크 남겨드립니다.',\n",
       " 'https://link.coupang.com/a/VM1cl',\n",
       " 'https://link.coupang.com/a/VM1gk',\n",
       " '\\u200b',\n",
       " '\\u200b',\n",
       " '\\u200b',\n",
       " '\\u200b',\n",
       " '\\u200b',\n",
       " '\\u200b',\n",
       " '\\u200b',\n",
       " '현명한 소비에 힘쓰겠습니다.',\n",
       " '파트너스의 일환으로 일정의',\n",
       " '수수료를 제공받습니다.',\n",
       " '안녕하세요!',\n",
       " '\\u200b',\n",
       " '제가 저희 부모님과 장인장모님 선물로 드리고 마음에 너무 드셔하셔서',\n",
       " '\\u200b',\n",
       " '이모이모부 고모고모부 전부 선물 해드린 신발이 있습니다.',\n",
       " '\\u200b',\n",
       " '물론 저와 와이프 역시 데일리로 한켤례씩 있는데 진짜 발 엄청 편합니다.',\n",
       " '\\u200b',\n",
       " '어른들도 발 너무 편하다고 항상 신고 다니는 신발입니다.',\n",
       " '\\u200b',\n",
       " '아키클래식이라는 브랜드의 제품인데 발의 피로도를 줄여주는 디자인으로',\n",
       " '\\u200b',\n",
       " '신어보시면 정말 마음에 드셔할겁니다!ㅎ광고 절대 아니고 개인적인 강력추천입니다!ㅎ',\n",
       " '\\u200b',\n",
       " 'https://link.coupang.com/a/VWEAe',\n",
       " '쿠팡파트너스 활동을 통해 일정액의 수수료를 제공받습니다.',\n",
       " '안녕하세요~~요즘핫한 샤넬꽃 어떠실까요?',\n",
       " 'http://t2m.kr/Q9BVu',\n",
       " '매년 어버이날 선물 넘 고민되죠 ㅜㅜ',\n",
       " '저는 아빠 생일때 호잇골프공 커스텀 골프공 주문했었는데 엄청 대만족 하셨어요 ㅋㅋㅋ',\n",
       " '호잇골프공에서 주문했더니 용돈박스도 같이 주문 되더라구요!!',\n",
       " '간편하게 선물하고 칭찬들어서 저도 엄청 만족했어여~',\n",
       " '링크에 들어가서 한번 보셔요~',\n",
       " '\\u200b',\n",
       " '일회성이 아닌 신을 때마다 고마운 부모님 어버이날 선물, 미국의사들이 오래 서 있고 오래 걷는 분들에게 주로 처방하는 미국 기능성 명품 편한 신발 지코일을 강추합니다.',\n",
       " '\\u200b',\n",
       " '미국의사들이 척추.무릎.발바닥 충격을 50% 이상 덜 해주어 편게 오래 걸을 수 있고, 근육펌핑운동을 약 12배 이상 더 해주어 질환 등으로 약화된 근육을 강화하고 저하된 혈액.림프순환을 더 원활히 해 손.발이 따뜻해지고 질환을 더 빨리 치료.완치케 하고,',\n",
       " '\\u200b',\n",
       " '척추.골반.다리.평발 및 자세, 걸음걸이 교정도 동시에 해주고, 일반 걷기에 비해 칼로리 소모도 약 2.5배 이상 더 되어 다이어트 운동효과도 매우 좋아 처방하는 rx걷기를 하시면 평생 아주 건강하게 잘 살 수 있습니다. >>>']"
      ]
     },
     "execution_count": 11,
     "metadata": {},
     "output_type": "execute_result"
    }
   ],
   "source": [
    "lines"
   ]
  },
  {
   "cell_type": "code",
   "execution_count": 12,
   "metadata": {},
   "outputs": [],
   "source": [
    "# 화면을 Go Back\n",
    "driver.back()"
   ]
  },
  {
   "attachments": {},
   "cell_type": "markdown",
   "metadata": {},
   "source": [
    "- 한 화면에 있는 10개의 글에서 모든 답변을 추출하기"
   ]
  },
  {
   "cell_type": "code",
   "execution_count": 13,
   "metadata": {},
   "outputs": [
    {
     "name": "stdout",
     "output_type": "stream",
     "text": [
      "1, 1\n",
      "2, 2\n",
      "2, 2\n",
      "7, 7\n",
      "8, 8\n",
      "8, 8\n",
      "22, 22\n",
      "7, 7\n",
      "3, 3\n",
      "10, 10\n"
     ]
    }
   ],
   "source": [
    "answer_list = []\n",
    "for li in lis:\n",
    "    sub_url = li.select_one('a._searchListTitleAnchor')['href']\n",
    "    driver.get(sub_url)\n",
    "    time.sleep(2)\n",
    "\n",
    "    count = int(driver.find_element(By.CSS_SELECTOR, '._answerCount.num').text)\n",
    "    click_count = (count - 1) // 5\n",
    "    print(count, end=', ')\n",
    "    for i in range(click_count):\n",
    "        driver.find_element(By.ID, 'nextPageButton').click()\n",
    "        time.sleep(1)\n",
    "\n",
    "    soup = BeautifulSoup(driver.page_source, 'html.parser')\n",
    "    divs = soup.select('div.answer-content__item._contentWrap._answer')\n",
    "    print(len(divs))\n",
    "    for div in divs:\n",
    "        ps = div.select('p.se-text-paragraph')\n",
    "        paragraph = ''\n",
    "        for p in ps:\n",
    "            text = p.get_text()\n",
    "            if text == ' ' or text == '\\u200b':         # zero width space\n",
    "                continue\n",
    "            paragraph += text + '\\n'\n",
    "        answer_list.append(paragraph)\n",
    "\n",
    "    driver.back()\n",
    "    time.sleep(2)"
   ]
  },
  {
   "cell_type": "code",
   "execution_count": 14,
   "metadata": {},
   "outputs": [
    {
     "data": {
      "text/plain": [
       "70"
      ]
     },
     "execution_count": 14,
     "metadata": {},
     "output_type": "execute_result"
    }
   ],
   "source": [
    "len(answer_list)"
   ]
  },
  {
   "cell_type": "code",
   "execution_count": 15,
   "metadata": {},
   "outputs": [
    {
     "data": {
      "text/plain": [
       "['40대 50대 어버이날선물 추천으로 14k or 18k 탄생석 골드 카네이션 추천드려요~\\n카네이션 자체가 전체 도금없이 완전 금으로 제작 되었구요\\n카네이션에 부모님 탄생석이 달려있어 더욱 의미있는 어버이날 선물이 될 것 같아요!\\n가격대도 질문자님이 찾는 선에서 적절하게 가능할것같아요\\n',\n",
       " '안녕하세요.\\n부모님께서 어깨랑 무릎이 아프시다고 하셨는데, 저희 부모님께서 사용하시면서\\n매번 칭찬하시는 제품이 생각나서 답글 남겨요~.\\n원적외선 온열치료기인데, 일반적인 적외선 조사기 처럼 생겼는데 신기하게 빨간 빛이 안나는 제품이에요. \\n램프가 세라믹으로 만들어 진 것이라 눈에 보이는 빨간 빛이 없이, 열감만 나는 제품인데요, \\n이게 파장이 일반 적외선 조사기랑 달라요. 파장이 몸속 깊숙이 침투되는 생육광선 파장을 낸다고 해요. \\n그래서 빨간 빛이 없고, 사용했을때 확실히 열감이 다르다고 하세요. \\n저희 부모님도 이거 매일 사용하시고 어깨 허리 무릎 많이 좋아지셨어요.\\n조금 피로하신 날에도 어깨랑 등이랑 자주 사용하시는데 그러면 사우나 한 것 처럼 개운하다고 하시더라구요~.\\n두 분이 서로 사용하시겠다고 하셔서;;; 하나 더 사드려야 하나 하던 참이었어요;;\\n여튼, 조작법도 쉽고, 사실 여기저기 사용 부위 제한도 없고, 또 제품도 엄청 튼튼해보여요.\\n후기 보니까 부모님 선물로 많이 드리고, 만족도도 높더라구요!\\n가격도 30만원 조금 안되는 가격이라 원하시는 가격대에 딱 맞네요 ^^\\n좋은 선물 하시기 바래요~!!\\n도움이 되셨다면 꼭 채택 부탁드립니다! ^^\\n']"
      ]
     },
     "execution_count": 15,
     "metadata": {},
     "output_type": "execute_result"
    }
   ],
   "source": [
    "answer_list[:2]"
   ]
  },
  {
   "attachments": {},
   "cell_type": "markdown",
   "metadata": {},
   "source": [
    "- 1 ~ 10 페이지에 대한 답변 가져오기"
   ]
  },
  {
   "cell_type": "code",
   "execution_count": 16,
   "metadata": {},
   "outputs": [
    {
     "name": "stderr",
     "output_type": "stream",
     "text": [
      " 40%|████      | 4/10 [04:33<06:54, 69.04s/it]"
     ]
    }
   ],
   "source": [
    "answer_list = []\n",
    "driver = webdriver.Chrome('C:/Users/YONSAI/Downloads/chromedriver.exe')\n",
    "for page in tqdm(range(1, 11)):\n",
    "    url = f'{base_url}?query={quote(\"어버이날 선물\")}&page={page}'\n",
    "    driver.get(url)\n",
    "    time.sleep(2)\n",
    "    soup = BeautifulSoup(driver.page_source, 'html.parser')\n",
    "    lis = soup.select('ul.basic1 > li')\n",
    "\n",
    "    for li in lis:\n",
    "        sub_url = li.select_one('a._searchListTitleAnchor')['href']\n",
    "        driver.get(sub_url)\n",
    "        time.sleep(2)\n",
    "\n",
    "        count = int(driver.find_element(By.CSS_SELECTOR, '._answerCount.num').text)\n",
    "        click_count = (count - 1) // 5\n",
    "        for i in range(click_count):\n",
    "            driver.find_element(By.ID, 'nextPageButton').click()\n",
    "            time.sleep(1)\n",
    "\n",
    "        soup = BeautifulSoup(driver.page_source, 'html.parser')\n",
    "        divs = soup.select('div.answer-content__item._contentWrap._answer')\n",
    "        for div in divs:\n",
    "            ps = div.select('p.se-text-paragraph')\n",
    "            paragraph = ''\n",
    "            for p in ps:\n",
    "                text = p.get_text()\n",
    "                if text == ' ' or text == '\\u200b':         # zero width space\n",
    "                    continue\n",
    "                paragraph += text + '\\n'\n",
    "            answer_list.append(paragraph)\n",
    "\n",
    "        driver.back()\n",
    "        time.sleep(2)"
   ]
  },
  {
   "cell_type": "code",
   "execution_count": null,
   "metadata": {},
   "outputs": [],
   "source": [
    "driver.close()"
   ]
  },
  {
   "cell_type": "code",
   "execution_count": null,
   "metadata": {},
   "outputs": [
    {
     "data": {
      "text/plain": [
       "792"
      ]
     },
     "execution_count": 20,
     "metadata": {},
     "output_type": "execute_result"
    }
   ],
   "source": [
    "len(answer_list)"
   ]
  },
  {
   "attachments": {},
   "cell_type": "markdown",
   "metadata": {},
   "source": [
    "- 파일에 쓰기"
   ]
  },
  {
   "cell_type": "code",
   "execution_count": null,
   "metadata": {},
   "outputs": [],
   "source": [
    "with open('data/어버이날 선물.txt', 'w', encoding='utf-8') as f:\n",
    "    for answer in answer_list:\n",
    "        f.write(answer + '\\n')"
   ]
  },
  {
   "cell_type": "code",
   "execution_count": null,
   "metadata": {},
   "outputs": [],
   "source": []
  }
 ],
 "metadata": {
  "kernelspec": {
   "display_name": "base",
   "language": "python",
   "name": "python3"
  },
  "language_info": {
   "codemirror_mode": {
    "name": "ipython",
    "version": 3
   },
   "file_extension": ".py",
   "mimetype": "text/x-python",
   "name": "python",
   "nbconvert_exporter": "python",
   "pygments_lexer": "ipython3",
   "version": "3.10.10"
  },
  "orig_nbformat": 4
 },
 "nbformat": 4,
 "nbformat_minor": 2
}
